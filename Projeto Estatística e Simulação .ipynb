{
 "cells": [
  {
   "cell_type": "markdown",
   "metadata": {
    "id": "Hs9_Pr8Zz-S7"
   },
   "source": [
    "# Importando bibliotecas e etc"
   ]
  },
  {
   "cell_type": "code",
   "execution_count": null,
   "metadata": {
    "colab": {
     "base_uri": "https://localhost:8080/"
    },
    "id": "QlBLa4MIVXb0",
    "outputId": "ed86cedc-7161-4931-b2c2-ea708cc43e4a"
   },
   "outputs": [
    {
     "name": "stdout",
     "output_type": "stream",
     "text": [
      "Collecting yfinance\n",
      "  Downloading yfinance-0.1.67-py2.py3-none-any.whl (25 kB)\n",
      "Requirement already satisfied: requests>=2.20 in /usr/local/lib/python3.7/dist-packages (from yfinance) (2.23.0)\n",
      "Requirement already satisfied: multitasking>=0.0.7 in /usr/local/lib/python3.7/dist-packages (from yfinance) (0.0.10)\n",
      "Requirement already satisfied: numpy>=1.15 in /usr/local/lib/python3.7/dist-packages (from yfinance) (1.19.5)\n",
      "Collecting lxml>=4.5.1\n",
      "  Downloading lxml-4.6.4-cp37-cp37m-manylinux_2_17_x86_64.manylinux2014_x86_64.manylinux_2_24_x86_64.whl (6.3 MB)\n",
      "\u001b[K     |████████████████████████████████| 6.3 MB 7.5 MB/s \n",
      "\u001b[?25hRequirement already satisfied: pandas>=0.24 in /usr/local/lib/python3.7/dist-packages (from yfinance) (1.1.5)\n",
      "Requirement already satisfied: pytz>=2017.2 in /usr/local/lib/python3.7/dist-packages (from pandas>=0.24->yfinance) (2018.9)\n",
      "Requirement already satisfied: python-dateutil>=2.7.3 in /usr/local/lib/python3.7/dist-packages (from pandas>=0.24->yfinance) (2.8.2)\n",
      "Requirement already satisfied: six>=1.5 in /usr/local/lib/python3.7/dist-packages (from python-dateutil>=2.7.3->pandas>=0.24->yfinance) (1.15.0)\n",
      "Requirement already satisfied: certifi>=2017.4.17 in /usr/local/lib/python3.7/dist-packages (from requests>=2.20->yfinance) (2021.10.8)\n",
      "Requirement already satisfied: idna<3,>=2.5 in /usr/local/lib/python3.7/dist-packages (from requests>=2.20->yfinance) (2.10)\n",
      "Requirement already satisfied: urllib3!=1.25.0,!=1.25.1,<1.26,>=1.21.1 in /usr/local/lib/python3.7/dist-packages (from requests>=2.20->yfinance) (1.24.3)\n",
      "Requirement already satisfied: chardet<4,>=3.0.2 in /usr/local/lib/python3.7/dist-packages (from requests>=2.20->yfinance) (3.0.4)\n",
      "Installing collected packages: lxml, yfinance\n",
      "  Attempting uninstall: lxml\n",
      "    Found existing installation: lxml 4.2.6\n",
      "    Uninstalling lxml-4.2.6:\n",
      "      Successfully uninstalled lxml-4.2.6\n",
      "Successfully installed lxml-4.6.4 yfinance-0.1.67\n"
     ]
    }
   ],
   "source": [
    "import seaborn as sns\n",
    "import matplotlib.pyplot as plt\n",
    "import pandas as pd\n",
    "import numpy as np\n",
    "import pandas_datareader.data as web\n",
    "\n",
    "!pip install yfinance --upgrade --no-cache-dir\n",
    "import yfinance as yf\n",
    "yf.pdr_override()"
   ]
  },
  {
   "cell_type": "code",
   "execution_count": null,
   "metadata": {
    "colab": {
     "base_uri": "https://localhost:8080/",
     "height": 472
    },
    "id": "WZrZaQihVdg_",
    "outputId": "a7b05243-f0dc-4e23-e7f8-1c89608bea42"
   },
   "outputs": [
    {
     "name": "stdout",
     "output_type": "stream",
     "text": [
      "\r",
      "[*********************100%***********************]  1 of 1 completed\n"
     ]
    },
    {
     "data": {
      "text/html": [
       "<div>\n",
       "<style scoped>\n",
       "    .dataframe tbody tr th:only-of-type {\n",
       "        vertical-align: middle;\n",
       "    }\n",
       "\n",
       "    .dataframe tbody tr th {\n",
       "        vertical-align: top;\n",
       "    }\n",
       "\n",
       "    .dataframe thead th {\n",
       "        text-align: right;\n",
       "    }\n",
       "</style>\n",
       "<table border=\"1\" class=\"dataframe\">\n",
       "  <thead>\n",
       "    <tr style=\"text-align: right;\">\n",
       "      <th></th>\n",
       "      <th>Open</th>\n",
       "      <th>High</th>\n",
       "      <th>Low</th>\n",
       "      <th>Close</th>\n",
       "    </tr>\n",
       "    <tr>\n",
       "      <th>Date</th>\n",
       "      <th></th>\n",
       "      <th></th>\n",
       "      <th></th>\n",
       "      <th></th>\n",
       "    </tr>\n",
       "  </thead>\n",
       "  <tbody>\n",
       "    <tr>\n",
       "      <th>1993-04-27</th>\n",
       "      <td>0.024800</td>\n",
       "      <td>0.025400</td>\n",
       "      <td>0.024500</td>\n",
       "      <td>0.024500</td>\n",
       "    </tr>\n",
       "    <tr>\n",
       "      <th>1993-04-28</th>\n",
       "      <td>0.024500</td>\n",
       "      <td>0.024600</td>\n",
       "      <td>0.023700</td>\n",
       "      <td>0.024300</td>\n",
       "    </tr>\n",
       "    <tr>\n",
       "      <th>1993-04-29</th>\n",
       "      <td>0.024300</td>\n",
       "      <td>0.024800</td>\n",
       "      <td>0.023700</td>\n",
       "      <td>0.023700</td>\n",
       "    </tr>\n",
       "    <tr>\n",
       "      <th>1993-04-30</th>\n",
       "      <td>0.023700</td>\n",
       "      <td>0.024200</td>\n",
       "      <td>0.023700</td>\n",
       "      <td>0.024100</td>\n",
       "    </tr>\n",
       "    <tr>\n",
       "      <th>1993-05-03</th>\n",
       "      <td>0.024100</td>\n",
       "      <td>0.024400</td>\n",
       "      <td>0.023800</td>\n",
       "      <td>0.024100</td>\n",
       "    </tr>\n",
       "    <tr>\n",
       "      <th>...</th>\n",
       "      <td>...</td>\n",
       "      <td>...</td>\n",
       "      <td>...</td>\n",
       "      <td>...</td>\n",
       "    </tr>\n",
       "    <tr>\n",
       "      <th>2021-11-29</th>\n",
       "      <td>102.227000</td>\n",
       "      <td>104.149000</td>\n",
       "      <td>102.226000</td>\n",
       "      <td>102.814000</td>\n",
       "    </tr>\n",
       "    <tr>\n",
       "      <th>2021-11-30</th>\n",
       "      <td>102.814000</td>\n",
       "      <td>103.066000</td>\n",
       "      <td>100.075000</td>\n",
       "      <td>101.915000</td>\n",
       "    </tr>\n",
       "    <tr>\n",
       "      <th>2021-12-01</th>\n",
       "      <td>101.916000</td>\n",
       "      <td>104.087000</td>\n",
       "      <td>100.727000</td>\n",
       "      <td>100.775000</td>\n",
       "    </tr>\n",
       "    <tr>\n",
       "      <th>2021-12-02</th>\n",
       "      <td>100.785000</td>\n",
       "      <td>104.218000</td>\n",
       "      <td>100.785000</td>\n",
       "      <td>103.815000</td>\n",
       "    </tr>\n",
       "    <tr>\n",
       "      <th>2021-12-03</th>\n",
       "      <td>104.466602</td>\n",
       "      <td>106.813727</td>\n",
       "      <td>104.464656</td>\n",
       "      <td>105.284469</td>\n",
       "    </tr>\n",
       "  </tbody>\n",
       "</table>\n",
       "<p>7077 rows × 4 columns</p>\n",
       "</div>"
      ],
      "text/plain": [
       "                  Open        High         Low       Close\n",
       "Date                                                      \n",
       "1993-04-27    0.024800    0.025400    0.024500    0.024500\n",
       "1993-04-28    0.024500    0.024600    0.023700    0.024300\n",
       "1993-04-29    0.024300    0.024800    0.023700    0.023700\n",
       "1993-04-30    0.023700    0.024200    0.023700    0.024100\n",
       "1993-05-03    0.024100    0.024400    0.023800    0.024100\n",
       "...                ...         ...         ...         ...\n",
       "2021-11-29  102.227000  104.149000  102.226000  102.814000\n",
       "2021-11-30  102.814000  103.066000  100.075000  101.915000\n",
       "2021-12-01  101.916000  104.087000  100.727000  100.775000\n",
       "2021-12-02  100.785000  104.218000  100.785000  103.815000\n",
       "2021-12-03  104.466602  106.813727  104.464656  105.284469\n",
       "\n",
       "[7077 rows x 4 columns]"
      ]
     },
     "execution_count": 2,
     "metadata": {},
     "output_type": "execute_result"
    }
   ],
   "source": [
    "#carteira = web.get_data_yahoo('BOVA11.SA', period='20y')\n",
    "carteira = web.get_data_yahoo('^BVSP')[['Open','High', 'Low', 'Close']].div(1000, axis=1)\n",
    "carteira"
   ]
  },
  {
   "cell_type": "code",
   "execution_count": null,
   "metadata": {
    "id": "GE_K-0HLh4Zy"
   },
   "outputs": [],
   "source": [
    "#carteira = carteira.loc['2005-08-01':'2021-07-30']\n",
    "#carteira['Variação'] = carteira['Close'].pct_change()\n",
    "#carteira.dropna(inplace=True)"
   ]
  },
  {
   "cell_type": "markdown",
   "metadata": {
    "id": "nRsBwSchzqav"
   },
   "source": [
    "# **Simulação ideal**\n",
    "\n",
    "### Determina o melhor cenário para investimento: aquele em que o preço da ação é o menor possível para o mês\n",
    "\n",
    "##### Este bloco determina os dias dos meses com os menores preços"
   ]
  },
  {
   "cell_type": "code",
   "execution_count": null,
   "metadata": {
    "colab": {
     "base_uri": "https://localhost:8080/",
     "height": 424
    },
    "id": "pECeKzMkV2gd",
    "outputId": "a9d7927e-8e51-46d5-b2d1-c2c8d7627ed5"
   },
   "outputs": [
    {
     "data": {
      "text/html": [
       "<div>\n",
       "<style scoped>\n",
       "    .dataframe tbody tr th:only-of-type {\n",
       "        vertical-align: middle;\n",
       "    }\n",
       "\n",
       "    .dataframe tbody tr th {\n",
       "        vertical-align: top;\n",
       "    }\n",
       "\n",
       "    .dataframe thead th {\n",
       "        text-align: right;\n",
       "    }\n",
       "</style>\n",
       "<table border=\"1\" class=\"dataframe\">\n",
       "  <thead>\n",
       "    <tr style=\"text-align: right;\">\n",
       "      <th></th>\n",
       "      <th>Data</th>\n",
       "    </tr>\n",
       "  </thead>\n",
       "  <tbody>\n",
       "    <tr>\n",
       "      <th>0</th>\n",
       "      <td>1993-04-28</td>\n",
       "    </tr>\n",
       "    <tr>\n",
       "      <th>1</th>\n",
       "      <td>1993-05-03</td>\n",
       "    </tr>\n",
       "    <tr>\n",
       "      <th>2</th>\n",
       "      <td>1993-06-01</td>\n",
       "    </tr>\n",
       "    <tr>\n",
       "      <th>3</th>\n",
       "      <td>1993-07-02</td>\n",
       "    </tr>\n",
       "    <tr>\n",
       "      <th>4</th>\n",
       "      <td>1993-08-05</td>\n",
       "    </tr>\n",
       "    <tr>\n",
       "      <th>...</th>\n",
       "      <td>...</td>\n",
       "    </tr>\n",
       "    <tr>\n",
       "      <th>343</th>\n",
       "      <td>2021-11-30</td>\n",
       "    </tr>\n",
       "    <tr>\n",
       "      <th>344</th>\n",
       "      <td>2021-12-01</td>\n",
       "    </tr>\n",
       "    <tr>\n",
       "      <th>345</th>\n",
       "      <td>2021-01-27</td>\n",
       "    </tr>\n",
       "    <tr>\n",
       "      <th>346</th>\n",
       "      <td>2021-02-26</td>\n",
       "    </tr>\n",
       "    <tr>\n",
       "      <th>347</th>\n",
       "      <td>2021-03-02</td>\n",
       "    </tr>\n",
       "  </tbody>\n",
       "</table>\n",
       "<p>345 rows × 1 columns</p>\n",
       "</div>"
      ],
      "text/plain": [
       "          Data\n",
       "0   1993-04-28\n",
       "1   1993-05-03\n",
       "2   1993-06-01\n",
       "3   1993-07-02\n",
       "4   1993-08-05\n",
       "..         ...\n",
       "343 2021-11-30\n",
       "344 2021-12-01\n",
       "345 2021-01-27\n",
       "346 2021-02-26\n",
       "347 2021-03-02\n",
       "\n",
       "[345 rows x 1 columns]"
      ]
     },
     "execution_count": 4,
     "metadata": {},
     "output_type": "execute_result"
    }
   ],
   "source": [
    "index_dias = []\n",
    "index_data_ano = carteira.index.year.drop_duplicates(keep='first')\n",
    "index_data_mês = carteira.index.month.drop_duplicates(keep='first')\n",
    "for ano in index_data_ano:\n",
    "  for mês in index_data_mês:\n",
    "    index_dias.append(carteira['Low'].where(carteira.index.year==ano).where(carteira.index.month==mês).idxmin())\n",
    "\n",
    "index_dias = pd.DataFrame({'Data':index_dias})\n",
    "index_dias = index_dias.dropna()\n",
    "index_dias"
   ]
  },
  {
   "cell_type": "markdown",
   "metadata": {
    "id": "GYxkW6fHixOe"
   },
   "source": [
    "#### Este bloco calcula o custo total de investimento no cenário ideal"
   ]
  },
  {
   "cell_type": "code",
   "execution_count": null,
   "metadata": {
    "colab": {
     "base_uri": "https://localhost:8080/",
     "height": 455
    },
    "id": "S2rnCvblp4ww",
    "outputId": "8e565108-1572-4d38-e8b9-317c704e1b6b"
   },
   "outputs": [
    {
     "data": {
      "text/html": [
       "<div>\n",
       "<style scoped>\n",
       "    .dataframe tbody tr th:only-of-type {\n",
       "        vertical-align: middle;\n",
       "    }\n",
       "\n",
       "    .dataframe tbody tr th {\n",
       "        vertical-align: top;\n",
       "    }\n",
       "\n",
       "    .dataframe thead th {\n",
       "        text-align: right;\n",
       "    }\n",
       "</style>\n",
       "<table border=\"1\" class=\"dataframe\">\n",
       "  <thead>\n",
       "    <tr style=\"text-align: right;\">\n",
       "      <th></th>\n",
       "      <th>Gasto</th>\n",
       "      <th>Gasto_total</th>\n",
       "    </tr>\n",
       "    <tr>\n",
       "      <th>Data</th>\n",
       "      <th></th>\n",
       "      <th></th>\n",
       "    </tr>\n",
       "  </thead>\n",
       "  <tbody>\n",
       "    <tr>\n",
       "      <th>1993-04-28</th>\n",
       "      <td>0.0237</td>\n",
       "      <td>0.0237</td>\n",
       "    </tr>\n",
       "    <tr>\n",
       "      <th>1993-05-03</th>\n",
       "      <td>0.0238</td>\n",
       "      <td>0.0475</td>\n",
       "    </tr>\n",
       "    <tr>\n",
       "      <th>1993-06-01</th>\n",
       "      <td>0.0354</td>\n",
       "      <td>0.0829</td>\n",
       "    </tr>\n",
       "    <tr>\n",
       "      <th>1993-07-02</th>\n",
       "      <td>0.0517</td>\n",
       "      <td>0.1346</td>\n",
       "    </tr>\n",
       "    <tr>\n",
       "      <th>1993-08-05</th>\n",
       "      <td>0.0606</td>\n",
       "      <td>0.1952</td>\n",
       "    </tr>\n",
       "    <tr>\n",
       "      <th>...</th>\n",
       "      <td>...</td>\n",
       "      <td>...</td>\n",
       "    </tr>\n",
       "    <tr>\n",
       "      <th>2021-11-30</th>\n",
       "      <td>100.0750</td>\n",
       "      <td>13283.3214</td>\n",
       "    </tr>\n",
       "    <tr>\n",
       "      <th>2021-12-01</th>\n",
       "      <td>100.7270</td>\n",
       "      <td>13384.0484</td>\n",
       "    </tr>\n",
       "    <tr>\n",
       "      <th>2021-01-27</th>\n",
       "      <td>114.8870</td>\n",
       "      <td>13498.9354</td>\n",
       "    </tr>\n",
       "    <tr>\n",
       "      <th>2021-02-26</th>\n",
       "      <td>109.8270</td>\n",
       "      <td>13608.7624</td>\n",
       "    </tr>\n",
       "    <tr>\n",
       "      <th>2021-03-02</th>\n",
       "      <td>107.3190</td>\n",
       "      <td>13716.0814</td>\n",
       "    </tr>\n",
       "  </tbody>\n",
       "</table>\n",
       "<p>345 rows × 2 columns</p>\n",
       "</div>"
      ],
      "text/plain": [
       "               Gasto  Gasto_total\n",
       "Data                             \n",
       "1993-04-28    0.0237       0.0237\n",
       "1993-05-03    0.0238       0.0475\n",
       "1993-06-01    0.0354       0.0829\n",
       "1993-07-02    0.0517       0.1346\n",
       "1993-08-05    0.0606       0.1952\n",
       "...              ...          ...\n",
       "2021-11-30  100.0750   13283.3214\n",
       "2021-12-01  100.7270   13384.0484\n",
       "2021-01-27  114.8870   13498.9354\n",
       "2021-02-26  109.8270   13608.7624\n",
       "2021-03-02  107.3190   13716.0814\n",
       "\n",
       "[345 rows x 2 columns]"
      ]
     },
     "execution_count": 5,
     "metadata": {},
     "output_type": "execute_result"
    }
   ],
   "source": [
    "soma = []\n",
    "montante = []\n",
    "gasto = []\n",
    "for c in index_dias['Data']:\n",
    "  gasto.append(carteira['Low'][c])\n",
    "\n",
    "index_dias.set_index('Data', inplace=True)\n",
    "index_dias['Gasto'] = gasto\n",
    "index_dias['Gasto_total'] = index_dias['Gasto'].cumsum()\n",
    "\n",
    "index_dias"
   ]
  },
  {
   "cell_type": "markdown",
   "metadata": {
    "id": "nisdVt-OjFkH"
   },
   "source": [
    "#### Calcula o montante, lucro e lucro percentual ao final do período com respeito ao cenário ideal"
   ]
  },
  {
   "cell_type": "code",
   "execution_count": null,
   "metadata": {
    "colab": {
     "base_uri": "https://localhost:8080/"
    },
    "id": "xuVIgiilOkug",
    "outputId": "41272bd9-9eab-4ae4-eb8c-765029df3353"
   },
   "outputs": [
    {
     "name": "stdout",
     "output_type": "stream",
     "text": [
      "22607.060318851472 164.8215671789373\n"
     ]
    }
   ],
   "source": [
    "montante = carteira['Close'][-1] * len(index_dias)\n",
    "lucro_ideal = montante - index_dias['Gasto_total'][-1]\n",
    "lucro_percentual_ideal = 100*lucro_ideal/index_dias['Gasto_total'][-1]\n",
    "\n",
    "print(lucro_ideal, lucro_percentual_ideal)"
   ]
  },
  {
   "cell_type": "markdown",
   "metadata": {
    "id": "cqSXfplkNtoj"
   },
   "source": [
    "# **Simulação aleatória**\n"
   ]
  },
  {
   "cell_type": "code",
   "execution_count": null,
   "metadata": {
    "colab": {
     "base_uri": "https://localhost:8080/"
    },
    "id": "itpUXGpBNVJb",
    "outputId": "107a33fc-9c02-435d-d43e-f74e326a8516"
   },
   "outputs": [
    {
     "name": "stdout",
     "output_type": "stream",
     "text": [
      "21779.86336129709 21773.77678699207 21785.94993560211 8.60771593055073 149.75901023236224 149.65448244043228 149.8635380242922\n"
     ]
    }
   ],
   "source": [
    "import random\n",
    "import statistics as st\n",
    "gasto_total, lucro, lucro_percentual, luc_dif = [], [], [], []\n",
    "\n",
    "carteira_df = carteira.copy()   #Faz uma cópia da carteira\n",
    "carteira_df = carteira_df.reset_index() #Reseta os índices: agora os índices serão números\n",
    "carteira_df['month'] = carteira_df['Date'].astype('datetime64[M]') #Cria uma nova coluna chamada \"month\" com dia fixo em 1 e variando mês e ano\n",
    "\n",
    "for i in range(2):\n",
    "  # Captura aleatoriamente as datas que serão realizados os investimentos\n",
    "  df_esc = carteira_df.groupby(['month'])['Low'].sample().reset_index(name=\"sort\")\n",
    "  gasto =  []\n",
    "  for c in df_esc['index']:\n",
    "    a = carteira_df['Low'][c]\n",
    "    b = carteira_df['High'][c]\n",
    "    gasto.append(random.uniform(a,b))\n",
    "\n",
    "  gasto_total.append(sum(gasto))\n",
    "  lucro.append((carteira['Close'][-1]*len(df_esc)) - gasto_total[-1]) \n",
    "  lucro_percentual.append(100*(lucro[-1]/gasto_total[-1]))\n",
    "\n",
    "lucro_medio = st.mean(lucro)\n",
    "lucro_minimo = min(lucro)\n",
    "lucro_maximo = max(lucro)\n",
    "lucro_std = st.stdev(lucro) # desvio padrão\n",
    "\n",
    "lucro_per_medio = st.mean(lucro_percentual)\n",
    "lucro_per_min = min(lucro_percentual)\n",
    "lucro_per_max = max(lucro_percentual)\n",
    "\n",
    "print(lucro_medio, lucro_minimo, lucro_maximo, lucro_std, lucro_per_medio, lucro_per_min, lucro_per_max)\n",
    "#print(st.mean(luc_dif))"
   ]
  },
  {
   "cell_type": "markdown",
   "metadata": {
    "id": "NcT6JOdfcl2D"
   },
   "source": [
    "# Parâmetro IdealxAleatório\n",
    "\n"
   ]
  },
  {
   "cell_type": "code",
   "execution_count": null,
   "metadata": {
    "colab": {
     "base_uri": "https://localhost:8080/"
    },
    "id": "c4a8g3o29dhE",
    "outputId": "7d6ecafa-e8f0-4468-ea1c-8f4486093766"
   },
   "outputs": [
    {
     "name": "stdout",
     "output_type": "stream",
     "text": [
      "               Open     High      Low    Close\n",
      "Date                                          \n",
      "2011-08-01   58.823   59.542   58.168   58.536\n",
      "2011-08-02   58.526   58.673   57.259   57.311\n",
      "2011-08-03   57.318   57.352   55.249   56.017\n",
      "2011-08-04   55.999   55.999   52.629   52.811\n",
      "2011-08-05   52.811   53.866   51.153   52.949\n",
      "...             ...      ...      ...      ...\n",
      "2021-07-26  125.058  126.214  125.006  126.004\n",
      "2021-07-27  126.004  126.026  123.670  124.612\n",
      "2021-07-28  124.615  126.712  124.542  126.286\n",
      "2021-07-29  126.285  126.476  124.917  125.675\n",
      "2021-07-30  125.672  125.673  121.748  121.801\n",
      "\n",
      "[2471 rows x 4 columns]\n"
     ]
    }
   ],
   "source": [
    "df_p1 = carteira.loc['2011-08-01':'2021-07-30']\n",
    "df_p2 = carteira.loc['2010-08-01':'2020-07-30']\n",
    "df_p3 = carteira.loc['2009-08-01':'2019-07-30']\n",
    "df_p4 = carteira.loc['2008-08-01':'2018-07-30']\n",
    "df_p5 = carteira.loc['2007-08-01':'2017-07-30']\n",
    "df_p6 = carteira.loc['2006-08-01':'2016-07-30']\n",
    "df_p7 = carteira.loc['2005-08-01':'2015-07-30']\n",
    "\n",
    "lista_df = [df_p1, df_p2, df_p3, df_p4, df_p5, df_p6, df_p7]\n",
    "print(df_p1)"
   ]
  },
  {
   "cell_type": "code",
   "execution_count": null,
   "metadata": {
    "colab": {
     "base_uri": "https://localhost:8080/"
    },
    "id": "0lin5AzHcl2d",
    "outputId": "553b9950-c185-446a-f1c5-9a166dc6cf6f"
   },
   "outputs": [
    {
     "name": "stdout",
     "output_type": "stream",
     "text": [
      "6520.621000000002 80.54625168874708\n",
      "\n",
      "5033.846000000001 66.52161146331675\n",
      "\n",
      "5159.764000000002 71.74114832243174\n",
      "\n",
      "3000.9849999999988 45.249154307021776\n",
      "\n",
      "1426.3430000000026 22.171259930949915\n",
      "\n",
      "651.8600000000015 10.47147836982541\n",
      "\n",
      "-92.1909999999998 -1.5163414904131352\n",
      "\n"
     ]
    }
   ],
   "source": [
    "lista_carteira_df = []\n",
    "lista_df_esc = []\n",
    "lista_df_ideais = []\n",
    "\n",
    "for df in lista_df:\n",
    "  carteira_df = df.copy()   #Faz uma cópia da df\n",
    "  carteira_df = carteira_df.reset_index() #Reseta os índices: agora os índices serão números\n",
    "  carteira_df['month'] = carteira_df['Date'].astype('datetime64[M]') #Cria uma nova coluna chamada \"month\" com dia fixo em 1 e variando mês e ano\n",
    "  df_esc = carteira_df.groupby(['month'])['Low'].sample().reset_index(name=\"sort\") #Cria uma coluna \"sort\" para alocar o valor escolhido e reseta o indice para guardar o índice do valor que foi escolhido\n",
    "  df_ideais = carteira_df.groupby(['month'])['Low'].min().reset_index(name='meses')\n",
    "\n",
    "  lista_carteira_df.append(carteira_df)\n",
    "  lista_df_ideais.append(df_ideais)\n",
    "  lista_df_esc.append(df_esc)\n",
    "\n",
    "  montante = carteira_df['Close'].iloc[-1] * len(df_ideais)\n",
    "  lucro_ideal = montante - sum(df_ideais['meses'])\n",
    "  lucro_percentual_ideal = 100*lucro_ideal/sum(df_ideais['meses'])\n",
    "\n",
    "  print(lucro_ideal, lucro_percentual_ideal)\n",
    "  print()"
   ]
  },
  {
   "cell_type": "code",
   "execution_count": null,
   "metadata": {
    "colab": {
     "base_uri": "https://localhost:8080/"
    },
    "id": "ZJv7PHqJcl2e",
    "outputId": "bbd82269-8f7e-4610-b65d-dcc2b0a52b65"
   },
   "outputs": [
    {
     "name": "stdout",
     "output_type": "stream",
     "text": [
      "6520.62 6520.62 6520.62 0.0 80.55 80.55 80.55\n",
      "\n",
      "5033.85 5033.85 5033.85 0.0 66.52 66.52 66.52\n",
      "\n",
      "5159.76 5159.76 5159.76 0.0 71.74 71.74 71.74\n",
      "\n",
      "3000.98 3000.98 3000.98 0.0 45.25 45.25 45.25\n",
      "\n",
      "1426.34 1426.34 1426.34 0.0 22.17 22.17 22.17\n",
      "\n",
      "651.86 651.86 651.86 0.0 10.47 10.47 10.47\n",
      "\n",
      "-92.19 -92.19 -92.19 0.0 -1.52 -1.52 -1.52\n",
      "\n"
     ]
    }
   ],
   "source": [
    "import random\n",
    "import statistics as st\n",
    "\n",
    "for z in range(len(lista_df_esc)):\n",
    "  gasto_total, lucro, lucro_percentual, luc_dif = [], [], [], []\n",
    "\n",
    "  for i in range(1):\n",
    "    lista_df_esc[z] = lista_carteira_df[z].groupby(['month'])['Low'].sample().reset_index(name=\"sort\")\n",
    "    lista_df_ideais[z] = lista_carteira_df[z].groupby(['month'])['Low'].min().reset_index(name='meses')\n",
    "    gasto =  []\n",
    "    \n",
    "    for num, c in enumerate(lista_df_esc[z]['index']): \n",
    "      parametro = random.choices([0,1], [100,0])\n",
    "      if parametro == [0]:\n",
    "        gasto.append(lista_df_ideais[z]['meses'][num])\n",
    "      if parametro == [1]:\n",
    "        a = lista_carteira_df[z]['Low'][c]\n",
    "        b = lista_carteira_df[z]['High'][c]\n",
    "        gasto.append(random.uniform(a,b))\n",
    "\n",
    "    gasto_total.append(sum(gasto))\n",
    "    lucro.append(((lista_carteira_df[z]['Close'].iloc[-1]*len(lista_df_esc[z])) - gasto_total[i]))\n",
    "    lucro_percentual.append(100*(lucro[i]/gasto_total[i]))\n",
    "\n",
    "  lucro_medio = st.mean(lucro)\n",
    "  lucro_minimo = min(lucro)\n",
    "  lucro_maximo = max(lucro)\n",
    "  #lucro_std = st.stdev(lucro) # desvio padrão\n",
    "\n",
    "  lucro_per_medio = st.mean(lucro_percentual)\n",
    "  lucro_per_min = min(lucro_percentual)\n",
    "  lucro_per_max = max(lucro_percentual)\n",
    "\n",
    "  print(round(lucro_medio, 2), round(lucro_minimo,2), round(lucro_maximo,2), round(lucro_std,2), round(lucro_per_medio,2), round(lucro_per_min,2), round(lucro_per_max,2))\n",
    "  print()"
   ]
  }
 ],
 "metadata": {
  "colab": {
   "name": "Final.ipynb",
   "provenance": []
  },
  "kernelspec": {
   "display_name": "Python 3",
   "language": "python",
   "name": "python3"
  },
  "language_info": {
   "codemirror_mode": {
    "name": "ipython",
    "version": 3
   },
   "file_extension": ".py",
   "mimetype": "text/x-python",
   "name": "python",
   "nbconvert_exporter": "python",
   "pygments_lexer": "ipython3",
   "version": "3.9.4"
  }
 },
 "nbformat": 4,
 "nbformat_minor": 1
}
